{
 "cells": [
  {
   "cell_type": "markdown",
   "metadata": {},
   "source": [
    "# ベンチマークとして線形回帰とSVMで予測する"
   ]
  },
  {
   "cell_type": "code",
   "execution_count": 1,
   "metadata": {},
   "outputs": [
    {
     "name": "stdout",
     "output_type": "stream",
     "text": [
      "   leftDia  rightDia  leftFront  rightFront  pulse\n",
      "0      568       904        118         152      1\n",
      "1      596       927        130         149      2\n",
      "2      577       912        126         155      3\n",
      "3      573       917        113         161      4\n",
      "4      567       905        123         151      5\n"
     ]
    }
   ],
   "source": [
    "import pandas as pd\n",
    "\n",
    "fwalldata = pd.read_csv('../inputs/frontwallSensorValues.csv', dtype=int)\n",
    "print(fwalldata.head())"
   ]
  },
  {
   "cell_type": "code",
   "execution_count": 3,
   "metadata": {},
   "outputs": [
    {
     "data": {
      "text/html": [
       "<div>\n",
       "<style scoped>\n",
       "    .dataframe tbody tr th:only-of-type {\n",
       "        vertical-align: middle;\n",
       "    }\n",
       "\n",
       "    .dataframe tbody tr th {\n",
       "        vertical-align: top;\n",
       "    }\n",
       "\n",
       "    .dataframe thead th {\n",
       "        text-align: right;\n",
       "    }\n",
       "</style>\n",
       "<table border=\"1\" class=\"dataframe\">\n",
       "  <thead>\n",
       "    <tr style=\"text-align: right;\">\n",
       "      <th></th>\n",
       "      <th>leftDia</th>\n",
       "      <th>rightDia</th>\n",
       "      <th>leftFront</th>\n",
       "      <th>rightFront</th>\n",
       "      <th>dist</th>\n",
       "    </tr>\n",
       "  </thead>\n",
       "  <tbody>\n",
       "    <tr>\n",
       "      <th>0</th>\n",
       "      <td>568</td>\n",
       "      <td>904</td>\n",
       "      <td>118</td>\n",
       "      <td>152</td>\n",
       "      <td>191.625</td>\n",
       "    </tr>\n",
       "    <tr>\n",
       "      <th>1</th>\n",
       "      <td>596</td>\n",
       "      <td>927</td>\n",
       "      <td>130</td>\n",
       "      <td>149</td>\n",
       "      <td>191.250</td>\n",
       "    </tr>\n",
       "    <tr>\n",
       "      <th>2</th>\n",
       "      <td>577</td>\n",
       "      <td>912</td>\n",
       "      <td>126</td>\n",
       "      <td>155</td>\n",
       "      <td>190.875</td>\n",
       "    </tr>\n",
       "    <tr>\n",
       "      <th>3</th>\n",
       "      <td>573</td>\n",
       "      <td>917</td>\n",
       "      <td>113</td>\n",
       "      <td>161</td>\n",
       "      <td>190.500</td>\n",
       "    </tr>\n",
       "    <tr>\n",
       "      <th>4</th>\n",
       "      <td>567</td>\n",
       "      <td>905</td>\n",
       "      <td>123</td>\n",
       "      <td>151</td>\n",
       "      <td>190.125</td>\n",
       "    </tr>\n",
       "  </tbody>\n",
       "</table>\n",
       "</div>"
      ],
      "text/plain": [
       "   leftDia  rightDia  leftFront  rightFront     dist\n",
       "0      568       904        118         152  191.625\n",
       "1      596       927        130         149  191.250\n",
       "2      577       912        126         155  190.875\n",
       "3      573       917        113         161  190.500\n",
       "4      567       905        123         151  190.125"
      ]
     },
     "execution_count": 3,
     "metadata": {},
     "output_type": "execute_result"
    }
   ],
   "source": [
    "from utils import *\n",
    "\n",
    "fwalldata['dist'] = pulse2distance(fwalldata['pulse'])\n",
    "fwalldata = fwalldata.drop('pulse', axis=1)\n",
    "fwalldata.head()"
   ]
  },
  {
   "cell_type": "code",
   "execution_count": 23,
   "metadata": {},
   "outputs": [
    {
     "name": "stdout",
     "output_type": "stream",
     "text": [
      "[-21.94525598   0.48828635  -6.32398715  -7.24638257 -65.9958184 ]\n"
     ]
    }
   ],
   "source": [
    "# Cross validation\n",
    "import numpy as np\n",
    "from sklearn import linear_model\n",
    "from sklearn.model_selection import cross_val_score\n",
    "\n",
    "trainattrs = ['leftDia', 'rightDia', 'leftFront', 'rightFront']\n",
    "\n",
    "clf = linear_model.LinearRegression()\n",
    "scores = cross_val_score(clf, fwalldata.loc[:, trainattrs], fwalldata.loc[:, 'dist'], cv=5)\n",
    "print(scores)"
   ]
  },
  {
   "cell_type": "code",
   "execution_count": 24,
   "metadata": {},
   "outputs": [
    {
     "data": {
      "image/png": "[encoded data removed]",
      "text/plain": [
       "<matplotlib.figure.Figure at 0x27196200978>"
      ]
     },
     "metadata": {},
     "output_type": "display_data"
    }
   ],
   "source": [
    "# fit, predict and plot\n",
    "from sklearn.model_selection import train_test_split\n",
    "import matplotlib.pyplot as plt\n",
    "%matplotlib inline\n",
    "\n",
    "testsize = 0.2\n",
    "trainX, testX, trainY, testY = train_test_split(fwalldata.loc[:, trainattrs], fwalldata.loc[:, 'dist'], test_size=testsize)\n",
    "clf.fit(trainX, trainY)\n",
    "\n",
    "pred = clf.predict(fwalldata.loc[:, trainattrs])\n",
    "plt.plot(range(fwalldata.shape[0]), fwalldata.loc[:, 'dist'], c='red', label='true')\n",
    "plt.plot(range(fwalldata.shape[0]), pred, c='blue', label='prediction')\n",
    "plt.title('Linear Regression')\n",
    "plt.legend()\n",
    "plt.show()"
   ]
  },
  {
   "cell_type": "code",
   "execution_count": null,
   "metadata": {},
   "outputs": [],
   "source": [
    "from sklearn.svm import SVR\n",
    "\n",
    "clf2 = SVR(kernel='rbf', C=1e3, gamma=0.1)\n",
    "clf2.fit(trainX, trainY)\n",
    "\n",
    "pred = clf2.predict(fwalldata.loc[:, trainattrs])\n",
    "plt.plot(range(fwalldata.shape[0]), fwalldata.loc[:, 'dist'], c='red', label='true')\n",
    "plt.plot(range(fwalldata.shape[0]), pred, c='blue', label='prediction')\n",
    "plt.title('SVM')\n",
    "plt.legend()\n",
    "plt.show()"
   ]
  },
  {
   "cell_type": "code",
   "execution_count": null,
   "metadata": {},
   "outputs": [],
   "source": []
  }
 ],
 "metadata": {
  "kernelspec": {
   "display_name": "Python 3",
   "language": "python",
   "name": "python3"
  },
  "language_info": {
   "codemirror_mode": {
    "name": "ipython",
    "version": 3
   },
   "file_extension": ".py",
   "mimetype": "text/x-python",
   "name": "python",
   "nbconvert_exporter": "python",
   "pygments_lexer": "ipython3",
   "version": "3.6.4"
  }
 },
 "nbformat": 4,
 "nbformat_minor": 2
}
